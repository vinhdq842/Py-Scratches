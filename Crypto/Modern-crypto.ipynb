{
 "cells": [
  {
   "cell_type": "markdown",
   "metadata": {},
   "source": [
    "## Mật mã và an toàn dữ liệu"
   ]
  },
  {
   "cell_type": "markdown",
   "metadata": {},
   "source": [
    "### Bài thu hoạch nhóm: Hệ mã hiện đại có sử dụng hàm băm và ứng dụng thực tế  \n",
    "\n",
    "**Thực hiện bởi:** Nhóm 16  \n",
    "**Họ và tên:** Đặng Quang Vinh(trưởng nhóm).  \n",
    "**MSV:** 18001218.  \n",
    "**Họ và tên:** Ngô Quang Vinh.  \n",
    "**MSV:** 18001219.  "
   ]
  },
  {
   "cell_type": "markdown",
   "metadata": {},
   "source": [
    "### I. Chuẩn mã hóa dữ liệu DES và Triple DES(TDEA)"
   ]
  },
  {
   "cell_type": "markdown",
   "metadata": {},
   "source": [
    "#### 1. Mở đầu\n",
    "  Chuẩn mã dữ liệu DES(viết tắt của Data Encryption Standard) được IBM phát triển và được xem như một cải biên của hệ mật LUCIFER. DES được công bố lần đầu tiên trong hồ sơ liên bang ngày 17-3-1975. Sau nhiều cuộc tranh cãi, DES được chấp nhận chọn làm chuẩn cho các ứng dụng không được coi là mật vào 5-1-1977. Từ lúc đó cứ 5 năm một lần DES được Uỷ ban Tiêu chuẩn Quốc gia xem xét lại. Tới tháng 10-2020 thì DES không được coi là chuẩn mã hoá nữa."
   ]
  },
  {
   "cell_type": "markdown",
   "metadata": {},
   "source": [
    "#### 2. Mô tả DES\n",
    "DES mã hoá một xâu bit $x$ độ dài 64 bằng một khoá 64 bit. Bản mã nhận được cũng là một xâu độ dài 64 bit. Mô tả thuật toán:\n",
    "* Bước 1: Với bản rõ $x$, bit $x_0$ được xây dựng bằng cách hoán vị các bit của $x$ theo phép hoán vị cố định ban đầu là $IP$.<br/>\n",
    "  Ta có $x_0=IP(x)=L_0R_0$, với $L_0$ gồm 32 bit đầu và $R_0$ gồm 32 bit cuối.\n",
    "* Bước 2: Tính toán 16 lần lặp theo một hàm $f$ xác định. Ta sẽ tính $L_i,R_i$ với $1\\leq$$i$ $\\leq16$ theo quy tắc sau:<br/>\n",
    "  $L_i=R_{i-1}$<br/>\n",
    "  $R_i=L_{i-1}\\oplus$$f(R_{i-1},k_i)$<br/>\n",
    "  với $\\oplus$ là phép loại trừ của 2 xâu bit (cộng theo module 2). Còn $k_1,k_2,...,k_{16}$  là các xâu bit độ dài 48 được tính nhờ hàm của khóa $k$ (Mỗi $k_i$ là một phép chọn hoán vị bit trong $k$, $k_1,k_2,...,k_{16}$ là một bảng khoá). Như hình vẽ dưới đây<br/>\n",
    "  ![alt](https://i0.wp.com/s1.uphinh.org/2021/06/11/Screen-Shot-2021-06-11-at-00.23.05.png)\n",
    "* Bước 3: Sử dụng phép hoán vị ngược $IP^{-1}$ cho xâu bit $R_{16}L_{16}$, thu được bản mã $y$. Với $y=IP^{-1}(R_{16}L_{16})$, chú ý thứ tự đã đảo của $L_{16}$ và $R_{16}$.<br/>\n",
    "  \n",
    "Với hàm $f$ có hai biến đầu vào: Biến thứ nhất là $A$ là xâu bit có độ dài là 32, biến thứ hai là $J$ là một xâu bit có độ dài là 48. Đầu ra của $f$ là một xâu bit độ dài 32. Các thao tác xử lý được thể hiện trong các bước sau.<br/>\n",
    "* Bước 1: Biến thứ nhất $A$ được mở rộng thành một xâu bit độ dài là 48, theo một hàm mở rộng cố định $E$. Với $E(A)$ gồm 32 bit của $A$ (được hoán vị theo cách cố định) với 16 bit xuất hiện 2 lần.\n",
    "* Bước 2: Tính $E(A)\\oplus$$J$ và kết quả được viết thành một chuỗi 8 xâu độ dài 6 bit là \n",
    "  $B_1B_2B_3B_4B_5B_6B_7B_8.$\n",
    "*  Bước 3: Dùng 8 bảng $S_1,S_2,S_3,S_4,S_5,S_6,S_7,S_8$ (hay còn gọi là S-box). Với mỗi $S_i$ ứng với một bảng 4 x 6 cố định, các ô là các số nguyên từ 0 đến 15. Với xâu bit có độ dài 6 (Kí hiệu $B_j=b_1b_2b_3b_4b_5b_6$), tính $S_j(B_j)$ như sau: Hai bit $b_1b_6$ xác định biểu diễn nhị phân của hàng $r$ của $S_j$ $(0\\leq$$r\\leq$$3)$ và bốn bit $(b_2b_3b_4b_5)$ xác định biểu diễn nhị phân của cột $c$ của $S_j$  $(0\\leq$$c\\leq$$15).$ Khi đó , $S_j(B_j)$ sẽ xác định phần tử $S_j(r,c)$, phần tử này viết dưới dạng nhị phân là một xâu bit có độ dài là 4. (Từ đó, mỗi $S_j$ có thể được coi là một hàm mã mà đầu vào là một xâu bit có độ dài là 6). Bằng cách tương tự ta có $C_j=S_j(B_j),$ với $1\\leq$$j\\leq$$8.$\n",
    "*  Bước 4: Xâu bit $C=C_1C_2C_3C_4C_5C_6C_7C_8$ có độ dài là 32 được hoán vị theo phép hoán vị xâu cố định $P$. Xâu kết quả là $P(C)$ được xác định là $f(A,J)$.<br/>\n",
    "\n",
    "Tạo khoá con $k$, thực tế $k$ là một xâu bit độ dài là 64, trong đó 56 bit là khoá và 8 bit để kiểm tra tính chẵn lẻ nhằm phát hiện sai. Các bit ở vị trí $8,16,...,64$ được xác định sao cho mỗi byte chứa một lẻ các số \"1\". Do vậy, chỉ một sai sót đơn lẻ có thể phát hiện được trong mỗi nhóm 8 bit. Các bit kiểm tra bị bỏ qua trong quá trình tính bảng khoá:<br/>\n",
    "* Một khoá $k$ với 64 bit cho trước, ta loại bỏ các bit kiểm tra tính chẵn lẻ và hoán vị các bit còn lại của $k$ theo phép hoán vị cố định $PC-1$ , ta viết:\n",
    "  $PC-1(k)=C_0D_0$\n",
    "* Với $i$ thay đổi từ 1 đến 16:<br/>\n",
    "  $C_i=LS_i(C_{i-1})$<br/>\n",
    "  $D_i=LS_i(D_{i-1})$<br/>\n",
    "  Việc tính bảng khoá được mô tả như hình dưới đây:<br/>\n",
    "  ![alt](https://2.pik.vn/2021d0567ad9-1ae6-4e98-9dfd-cc1e63aa9df8.png)<br/>\n",
    "\n",
    "Giải mã thực hiện nhờ cùng thuật toán như phép mã hoá, với đầu vào là dữ liệu cần giải mã, tuy nhiên khoá được sử dụng theo thứ tự ngược với mã hoá lần lượt là $K_{16},...,K_1$, dữ liệu đầu ra của thuật toán giải mã đó là bản rõ $x$.<br/>"
   ]
  },
  {
   "cell_type": "markdown",
   "metadata": {},
   "source": [
    "#### 3. Triple DES(TDEA)"
   ]
  },
  {
   "cell_type": "markdown",
   "metadata": {},
   "source": [
    "Gọi $E_K(I)$ và $D_K(I)$ lần lượt là hàm mã hóa và giải mã chuỗi 64 bit $I$ sử dụng DES với khóa $K$. Thuật toán Triple DES là sự kết hợp các thao tác mã hóa và giải mã với khóa khác nhau trên bản rõ. Cụ thể:  \n",
    "* Quá trình mã hóa chuỗi 64 bit $I$ cho ra chuỗi 64 bit $O$ của TDEA:  \n",
    "<center>$O=E_{K_3}(D_{K_2}(E_{K_1}(I)))$</center>  \n",
    "\n",
    "* Quá trình giải mã $I$ cho ra $O$:  \n",
    "<center>$O=D_{K_1}(E_{K_2}(D_{K_3}(I)))$</center>  \n",
    "\n",
    "Lược đồ TDEA:  \n",
    "![TDEA diagram](https://nevonprojects.com/wp-content/uploads/2015/06/Triple-Des-image.png)\n",
    "\n",
    "Các chuẩn chọn bộ khóa $(K_1,K_2,K_3)$:  \n",
    "* $K_1 \\neq K_2 \\neq K_3$  \n",
    "* $K_1 \\neq K_2$ và $K_1 = K_3$  \n",
    "* $K_1 = K_2 = K_3$"
   ]
  },
  {
   "cell_type": "markdown",
   "metadata": {},
   "source": [
    "#### 4. Mã cài đặt DES và TDEA"
   ]
  },
  {
   "cell_type": "markdown",
   "metadata": {},
   "source": [
    "* Hoán vị ban đầu và hoán vị ngược($IP$ và $IP^{-1}$)."
   ]
  },
  {
   "cell_type": "code",
   "execution_count": 1,
   "metadata": {},
   "outputs": [],
   "source": [
    "# Initial Permutation\n",
    "init_perm = [58, 50, 42, 34, 26, 18, 10, 2,\n",
    "             60, 52, 44, 36, 28, 20, 12, 4,\n",
    "             62, 54, 46, 38, 30, 22, 14, 6,\n",
    "             64, 56, 48, 40, 32, 24, 16, 8,\n",
    "             57, 49, 41, 33, 25, 17, 9, 1,\n",
    "             59, 51, 43, 35, 27, 19, 11, 3,\n",
    "             61, 53, 45, 37, 29, 21, 13, 5,\n",
    "             63, 55, 47, 39, 31, 23, 15, 7]\n",
    "\n",
    "# Inverse Initial Permutation\n",
    "inv_init_perm = [40, 8, 48, 16, 56, 24, 64, 32,\n",
    "                 39, 7, 47, 15, 55, 23, 63, 31,\n",
    "                 38, 6, 46, 14, 54, 22, 62, 30,\n",
    "                 37, 5, 45, 13, 53, 21, 61, 29,\n",
    "                 36, 4, 44, 12, 52, 20, 60, 28,\n",
    "                 35, 3, 43, 11, 51, 19, 59, 27,\n",
    "                 34, 2, 42, 10, 50, 18, 58, 26,\n",
    "                 33, 1, 41, 9, 49, 17, 57, 25]"
   ]
  },
  {
   "cell_type": "markdown",
   "metadata": {},
   "source": [
    "* Bảng mở rộng cố định $E$ được xác định như sau."
   ]
  },
  {
   "cell_type": "code",
   "execution_count": 2,
   "metadata": {},
   "outputs": [],
   "source": [
    "# Expansion table E\n",
    "expansion_table = [32, 1, 2, 3, 4, 5,\n",
    "                   4, 5, 6, 7, 8, 9,\n",
    "                   8, 9, 10, 11, 12, 13,\n",
    "                   12, 13, 14, 15, 16, 17,\n",
    "                   16, 17, 18, 19, 20, 21,\n",
    "                   20, 21, 22, 23, 24, 25,\n",
    "                   24, 25, 26, 27, 28, 29,\n",
    "                   28, 29, 30, 31, 32, 1]"
   ]
  },
  {
   "cell_type": "markdown",
   "metadata": {},
   "source": [
    "* Phép hoán vị $P$ như sau."
   ]
  },
  {
   "cell_type": "code",
   "execution_count": 3,
   "metadata": {},
   "outputs": [],
   "source": [
    "# P permutation\n",
    "p_table = [16, 7, 20, 21,\n",
    "           29, 12, 28, 17,\n",
    "           1, 15, 23, 26,\n",
    "           5, 18, 31, 10,\n",
    "           2, 8, 24, 14,\n",
    "           32, 27, 3, 9,\n",
    "           19, 13, 30, 6,\n",
    "           22, 11, 4, 25]"
   ]
  },
  {
   "cell_type": "markdown",
   "metadata": {},
   "source": [
    "* 8 $S-boxes$ là."
   ]
  },
  {
   "cell_type": "code",
   "execution_count": 4,
   "metadata": {},
   "outputs": [],
   "source": [
    "# 8 S-boxes\n",
    "s_box = [\n",
    "    [[14, 4, 13, 1, 2, 15, 11, 8, 3, 10, 6, 12, 5, 9, 0, 7],\n",
    "     [0, 15, 7, 4, 14, 2, 13, 1, 10, 6, 12, 11, 9, 5, 3, 8],\n",
    "     [4, 1, 14, 8, 13, 6, 2, 11, 15, 12, 9, 7, 3, 10, 5, 0],\n",
    "     [15, 12, 8, 2, 4, 9, 1, 7, 5, 11, 3, 14, 10, 0, 6, 13]],\n",
    "\n",
    "    [[15, 1, 8, 14, 6, 11, 3, 4, 9, 7, 2, 13, 12, 0, 5, 10],\n",
    "     [3, 13, 4, 7, 15, 2, 8, 14, 12, 0, 1, 10, 6, 9, 11, 5],\n",
    "     [0, 14, 7, 11, 10, 4, 13, 1, 5, 8, 12, 6, 9, 3, 2, 15],\n",
    "     [13, 8, 10, 1, 3, 15, 4, 2, 11, 6, 7, 12, 0, 5, 14, 9]],\n",
    "\n",
    "    [[10, 0, 9, 14, 6, 3, 15, 5, 1, 13, 12, 7, 11, 4, 2, 8],\n",
    "     [13, 7, 0, 9, 3, 4, 6, 10, 2, 8, 5, 14, 12, 11, 15, 1],\n",
    "     [13, 6, 4, 9, 8, 15, 3, 0, 11, 1, 2, 12, 5, 10, 14, 7],\n",
    "     [1, 10, 13, 0, 6, 9, 8, 7, 4, 15, 14, 3, 11, 5, 2, 12]],\n",
    "\n",
    "    [[7, 13, 14, 3, 0, 6, 9, 10, 1, 2, 8, 5, 11, 12, 4, 15],\n",
    "     [13, 8, 11, 5, 6, 15, 0, 3, 4, 7, 2, 12, 1, 10, 14, 9],\n",
    "     [10, 6, 9, 0, 12, 11, 7, 13, 15, 1, 3, 14, 5, 2, 8, 4],\n",
    "     [3, 15, 0, 6, 10, 1, 13, 8, 9, 4, 5, 11, 12, 7, 2, 14]],\n",
    "\n",
    "    [[2, 12, 4, 1, 7, 10, 11, 6, 8, 5, 3, 15, 13, 0, 14, 9],\n",
    "     [14, 11, 2, 12, 4, 7, 13, 1, 5, 0, 15, 10, 3, 9, 8, 6],\n",
    "     [4, 2, 1, 11, 10, 13, 7, 8, 15, 9, 12, 5, 6, 3, 0, 14],\n",
    "     [11, 8, 12, 7, 1, 14, 2, 13, 6, 15, 0, 9, 10, 4, 5, 3]],\n",
    "\n",
    "    [[12, 1, 10, 15, 9, 2, 6, 8, 0, 13, 3, 4, 14, 7, 5, 11],\n",
    "     [10, 15, 4, 2, 7, 12, 9, 5, 6, 1, 13, 14, 0, 11, 3, 8],\n",
    "     [9, 14, 15, 5, 2, 8, 12, 3, 7, 0, 4, 10, 1, 13, 11, 6],\n",
    "     [4, 3, 2, 12, 9, 5, 15, 10, 11, 14, 1, 7, 6, 0, 8, 13]],\n",
    "\n",
    "    [[4, 11, 2, 14, 15, 0, 8, 13, 3, 12, 9, 7, 5, 10, 6, 1],\n",
    "     [13, 0, 11, 7, 4, 9, 1, 10, 14, 3, 5, 12, 2, 15, 8, 6],\n",
    "     [1, 4, 11, 13, 12, 3, 7, 14, 10, 15, 6, 8, 0, 5, 9, 2],\n",
    "     [6, 11, 13, 8, 1, 4, 10, 7, 9, 5, 0, 15, 14, 2, 3, 12]],\n",
    "\n",
    "    [[13, 2, 8, 4, 6, 15, 11, 1, 10, 9, 3, 14, 5, 0, 12, 7],\n",
    "     [1, 15, 13, 8, 10, 3, 7, 4, 12, 5, 6, 11, 0, 14, 9, 2],\n",
    "     [7, 11, 4, 1, 9, 12, 14, 2, 0, 6, 10, 13, 15, 3, 5, 8],\n",
    "     [2, 1, 14, 7, 4, 10, 8, 13, 15, 12, 9, 0, 3, 5, 6, 11]]\n",
    "]"
   ]
  },
  {
   "cell_type": "markdown",
   "metadata": {},
   "source": [
    "* Các hoán vị $PC-1$, $PC-2$ và bảng dịch trái $LS$ như sau."
   ]
  },
  {
   "cell_type": "code",
   "execution_count": 5,
   "metadata": {},
   "outputs": [],
   "source": [
    "# PC-1\n",
    "pc1 = [57, 49, 41, 33, 25, 17, 9,\n",
    "       1, 58, 50, 42, 34, 26, 18,\n",
    "       10, 2, 59, 51, 43, 35, 27,\n",
    "       19, 11, 3, 60, 52, 44, 36,\n",
    "       63, 55, 47, 39, 31, 23, 15,\n",
    "       7, 62, 54, 46, 38, 30, 22,\n",
    "       14, 6, 61, 53, 45, 37, 29,\n",
    "       21, 13, 5, 28, 20, 12, 4]\n",
    "\n",
    "# PC-2\n",
    "pc2 = [14, 17, 11, 24, 1, 5,\n",
    "       3, 28, 15, 6, 21, 10,\n",
    "       23, 19, 12, 4, 26, 8,\n",
    "       16, 7, 27, 20, 13, 2,\n",
    "       41, 52, 31, 37, 47, 55,\n",
    "       30, 40, 51, 45, 33, 48,\n",
    "       44, 49, 39, 56, 34, 53,\n",
    "       46, 42, 50, 36, 29, 32]\n",
    "\n",
    "# LSi\n",
    "ls = [1, 1, 2, 2,\n",
    "      2, 2, 2, 2,\n",
    "      1, 2, 2, 2,\n",
    "      2, 2, 2, 1]"
   ]
  },
  {
   "cell_type": "markdown",
   "metadata": {},
   "source": [
    "* Các phép tính cần thiết cho thuật toán."
   ]
  },
  {
   "cell_type": "code",
   "execution_count": 6,
   "metadata": {},
   "outputs": [],
   "source": [
    "def byte2bin(b):\n",
    "    return \"\".join([bin(i)[2:].zfill(8) for i in b])\n",
    "\n",
    "\n",
    "def bin2byte(x):\n",
    "    return bytes([int(x[i:i + 8], 2) for i in range(0, len(x), 8)])\n",
    "\n",
    "\n",
    "def hex2bin(h):\n",
    "    b = \"\"\n",
    "    for i in h:\n",
    "        b += bin(int(i, 16))[2:].zfill(4)\n",
    "\n",
    "    return b\n",
    "\n",
    "\n",
    "def bin2hex(b):\n",
    "    h = \"\"\n",
    "    for i in range(len(b) // 4):\n",
    "        h += hex(int(b[i * 4:i * 4 + 4], 2))[2:]\n",
    "\n",
    "    return h\n",
    "\n",
    "\n",
    "def xor(a, b):\n",
    "    return \"\".join([str(int(a[i]) ^^ int(b[i])) for i in range(len(a))])\n",
    "\n",
    "\n",
    "def shl(a, n):\n",
    "    for i in range(n):\n",
    "        a = a[1:] + a[0]\n",
    "    return a\n",
    "\n",
    "\n",
    "def permute(x, table):\n",
    "    return \"\".join([x[i - 1] for i in table])\n"
   ]
  },
  {
   "cell_type": "markdown",
   "metadata": {},
   "source": [
    "* Hàm vòng $f$ được tính như sau:"
   ]
  },
  {
   "cell_type": "code",
   "execution_count": 7,
   "metadata": {},
   "outputs": [],
   "source": [
    "# the f function\n",
    "def f(ri, ki):\n",
    "    ri = permute(ri, expansion_table)\n",
    "    ri = xor(ri, ki)\n",
    "\n",
    "    c = \"\"\n",
    "    for i in range(8):\n",
    "        b = ri[i * 6:i * 6 + 6]\n",
    "        row = int(b[0] + b[5], 2)\n",
    "        col = int(b[1] + b[2] + b[3] + b[4], 2)\n",
    "        c += bin(s_box[i][row][col])[2:].zfill(4)\n",
    "\n",
    "    return permute(c, p_table)"
   ]
  },
  {
   "cell_type": "markdown",
   "metadata": {},
   "source": [
    "* Tạo bảng khoá."
   ]
  },
  {
   "cell_type": "code",
   "execution_count": 8,
   "metadata": {},
   "outputs": [],
   "source": [
    "# generate key table\n",
    "def gen_key_table(k):\n",
    "    k = permute(k, pc1)\n",
    "    left, right = k[0:28], k[28:56]\n",
    "\n",
    "    key_table = []\n",
    "    for idx in range(16):\n",
    "        left = shl(left, ls[idx])\n",
    "        right = shl(right, ls[idx])\n",
    "        key_table.append(permute(left + right, pc2))\n",
    "\n",
    "    return key_table"
   ]
  },
  {
   "cell_type": "markdown",
   "metadata": {},
   "source": [
    "* Hàm mã hoá một khối 64 bit $x$ theo bảng khoá $key\\_tab$."
   ]
  },
  {
   "cell_type": "code",
   "execution_count": 9,
   "metadata": {},
   "outputs": [],
   "source": [
    "def encrypt(x, key_tab):\n",
    "    x0 = permute(x, init_perm)\n",
    "    l, r = x0[0:32], x0[32:64]\n",
    "\n",
    "    for i in range(16):\n",
    "        ri = xor(l, f(r, key_tab[i]))\n",
    "        li = r\n",
    "        l, r = li, ri\n",
    "\n",
    "    return permute(r + l, inv_init_perm)"
   ]
  },
  {
   "cell_type": "markdown",
   "metadata": {},
   "source": [
    "* Mã hoá một chuỗi nhị phân dữ liệu có độ dài là bội của 64 theo chế độ Electronic Code Book(ECB)"
   ]
  },
  {
   "cell_type": "code",
   "execution_count": 10,
   "metadata": {},
   "outputs": [],
   "source": [
    "# encrypt a binary string\n",
    "def encrypt_data(data, key_table):\n",
    "    encrypted = \"\"\n",
    "    for i in range(len(data) // 64):\n",
    "        block = data[i * 64:i * 64 + 64]\n",
    "        encrypted += encrypt(block, key_table)\n",
    "\n",
    "    return encrypted"
   ]
  },
  {
   "cell_type": "markdown",
   "metadata": {},
   "source": [
    "* Giải mã một chuỗi nhị phân bản mã có độ dài là bội 64 theo chế độ ECB."
   ]
  },
  {
   "cell_type": "code",
   "execution_count": 11,
   "metadata": {},
   "outputs": [],
   "source": [
    "# decrypt a binary string\n",
    "def decrypt_data(data, key_table):\n",
    "    decrypted = \"\"\n",
    "    for i in range(len(data) // 64):\n",
    "        block = data[i * 64:i * 64 + 64]\n",
    "        decrypted += encrypt(block, key_table[::-1])\n",
    "\n",
    "    return decrypted"
   ]
  },
  {
   "cell_type": "markdown",
   "metadata": {},
   "source": [
    "* Thực hiện thuật toán Triple DES(TDEA) với 3 khóa trong đó $k1 \\equiv k3$, $k1 \\neq k2$. Bản rõ $P = 9EB76FAC45AF8E51$."
   ]
  },
  {
   "cell_type": "code",
   "execution_count": 12,
   "metadata": {},
   "outputs": [
    {
     "name": "stdout",
     "output_type": "stream",
     "text": [
      "Plaintext: 9eb76fac45af8e51\n",
      "BlockOut1: 9a4a53a1c7d22e5b\n",
      "BlockOut2: d9ce83442d0fa499\n",
      "BlockOut3(Ciphertext): b6c88cf107340d3d\n",
      "Decripted text: 9eb76fac45af8e51\n"
     ]
    }
   ],
   "source": [
    "# Triple DES\n",
    "key1 = hex2bin(\"0123456789abcdef\")\n",
    "key2 = hex2bin(\"23456789abcdef01\")\n",
    "key3 = hex2bin(\"0123456789abcdef\")\n",
    "\n",
    "plain = \"9eb76fac45af8e51\"\n",
    "print(\"Plaintext:\",plain)\n",
    "plain = hex2bin(plain)\n",
    "\n",
    "key1 = gen_key_table(key1)\n",
    "key2 = gen_key_table(key2)\n",
    "key3 = gen_key_table(key3)\n",
    "\n",
    "# Encryption\n",
    "cipher = encrypt_data(plain, key1)\n",
    "print(\"BlockOut1:\", bin2hex(cipher))\n",
    "cipher = decrypt_data(cipher, key2)\n",
    "print(\"BlockOut2:\", bin2hex(cipher))\n",
    "cipher = encrypt_data(cipher, key3)\n",
    "print(\"BlockOut3(Ciphertext):\", bin2hex(cipher))\n",
    "\n",
    "# Decryption\n",
    "plain = decrypt_data(cipher, key3)\n",
    "plain = encrypt_data(plain, key2)\n",
    "plain = decrypt_data(plain, key1)\n",
    "print(\"Decripted text:\", bin2hex(plain))"
   ]
  },
  {
   "cell_type": "markdown",
   "metadata": {},
   "source": [
    "### II. Thuật toán mã hóa khóa công khai RSA và chữ ký số RSA"
   ]
  },
  {
   "cell_type": "markdown",
   "metadata": {},
   "source": [
    "#### 1. Giới thiệu\n",
    "RSA là một thuật toán mã hoá công khai rất phổ biến, phù hợp để tạo ra chữ ký điện tử cũng như sử dụng trong việc mã hoá trao đổi khóa.<br/>\n",
    "Thuật toán RSA có hai khoá: Khoá công khai(public key) và khoá bí mật (private key). Mỗi khoá là một cặp cố định sử dụng trong quá trình mã hoá và giải mã. Khoá công khai được công khai, để bất kì ai cũng có thể tham gia mã hoá. Khoá bí mật, dùng để giải mã, những thông tin mã hoá bằng khoá công khai chỉ có thể giải được bằng khoá bí mật tương ứng.<br/>\n"
   ]
  },
  {
   "cell_type": "markdown",
   "metadata": {},
   "source": [
    "#### 2. Tạo khoá\n",
    "Với thuật toán RSA cần tạo cặp khoá công khai và bí mật theo công thức sau:\n",
    "* Chọn 2 số nguyên tố ngẫu nhiên lớn $p$ và $q$ với $p \\neq q$.\n",
    "* Tính phi hàm Euler: $\\phi(n)=(p-1)(q-1)$.\n",
    "* Chọn một số nguyên dương $e$ sao cho $1 < e < \\phi(n)$ và $GCD(e,\\phi(n)) = 1$.\n",
    "* Tìm số nguyên $d$, $1< d < \\phi(n)$, sao cho $de\\equiv1(mod\\;{\\phi(n)}).$<br/>\n",
    "Ta cần lưu ý số nguyên tố thường được chọn bằng phép thử xác suất.<br/>\n",
    "* Khoá công khai là bộ số $(n,e)$ và khoá bí mật là bộ số $(n,d)$."
   ]
  },
  {
   "cell_type": "code",
   "execution_count": 13,
   "metadata": {},
   "outputs": [],
   "source": [
    "def rsa(bits):\n",
    "    p = next_prime(ZZ.random_element(2**bits))\n",
    "    q = next_prime(ZZ.random_element(2**bits))\n",
    "    n = p*q\n",
    "    phi = (p-1)*(q-1)\n",
    "    while True:\n",
    "        e = ZZ.random_element(1,phi)\n",
    "        if gcd(e,phi) == 1: break\n",
    "    d = xgcd(e,phi)[1] % phi\n",
    "    return e, d, n"
   ]
  },
  {
   "cell_type": "markdown",
   "metadata": {},
   "source": [
    "* Với bits bằng $k$ sẽ sinh khoá $n=pq$ với xấp sỉ $2^k$,sinh $e,d,n$ theo thứ tự:"
   ]
  },
  {
   "cell_type": "code",
   "execution_count": 14,
   "metadata": {},
   "outputs": [
    {
     "name": "stdout",
     "output_type": "stream",
     "text": [
      "e = 54be5bdec588845410dde923056a7202c061d4ba4c8dbc81565d781691cd807eff617073336569e42692351a4883aa78716037b6ee1e4733ee5ef714b91fff7f\n",
      "d = 4445f4d8b4e66eb411003f69665a8b496a470d461d524fbd391a6a1f2b0a0d92519d56af286804540de31e4191df9d250ff7f5de4995b6f124c62d032f3ff16f\n",
      "n = 5b8729d88030e2e6f2b637f713fe6e0b6400f604faad6b2866d764ccd023de8610250fd1abba87fc1d1b09a87a4bb619ccf51fbcdc5ccbc0742b34269756fd4b\n"
     ]
    }
   ],
   "source": [
    "e,d,n = rsa(256)\n",
    "print(\"e =\",format(e,\"x\"))\n",
    "print(\"d =\",format(d,\"x\"))\n",
    "print(\"n =\",format(n,\"x\"))"
   ]
  },
  {
   "cell_type": "markdown",
   "metadata": {},
   "source": [
    "#### 3. Mã hoá\n",
    "Giả sử B muốn gửi một đoạn thông tin mã hoá $M$ cho A. B chuyển $M$ thành một số $m$ với $m < n$ theo một hàm có thể đảo ngược(từ $m$ có thể tìm ra $M$ được thoả thuận trước).\n",
    "* Lúc này B có dữ liệu $m,n,e$ với $(n,e)$ do A gửi là khoá công khai. B tính $c$ là bản mã hoá theo công thức sau:<br/>\n",
    "  $c=m^e\\mod{n}$<br/>\n",
    "  Lúc này B sẽ gửi $c$ cho A."
   ]
  },
  {
   "cell_type": "code",
   "execution_count": 15,
   "metadata": {},
   "outputs": [],
   "source": [
    "def encrypt_rsa(m,e,n):\n",
    "    c = power_mod(m,e,n)\n",
    "    return c"
   ]
  },
  {
   "cell_type": "markdown",
   "metadata": {},
   "source": [
    "* Mã hoá $m$ thành $c$:"
   ]
  },
  {
   "cell_type": "code",
   "execution_count": 16,
   "metadata": {},
   "outputs": [
    {
     "name": "stdout",
     "output_type": "stream",
     "text": [
      "m = cf62bcafdc7eee18137639ccf6adad7981bf5409aaab2e057b02712c85619a2e\n",
      "c = 210cb4ae61340e9e5696ce821ad6eb5e55c80b74d4fde2c4392afed3c65879c5698cb52bbf095ddf4fcf208a20a7ceed9ef98a2531b41c167ae774a94274fc34\n"
     ]
    }
   ],
   "source": [
    "m = ZZ.random_element(2**256)\n",
    "print(\"m =\",format(m,\"x\"))\n",
    "c = encrypt_rsa(m,e,n)\n",
    "print(\"c =\",format(c,\"x\"))"
   ]
  },
  {
   "cell_type": "markdown",
   "metadata": {},
   "source": [
    "#### 4. Giải mã\n",
    "Sau khi nhận được $c$ từ B và đang có khoá bí mật $(n,d)$. A có thể tìm được $m$ theo công thức sau:\n",
    "* $m=c^d\\mod{n}$<br/>\n",
    "  Biết $m$, A có thể dịch ngược lại thành $M$ theo hàm đã thoả thuận trước."
   ]
  },
  {
   "cell_type": "code",
   "execution_count": 17,
   "metadata": {},
   "outputs": [],
   "source": [
    "def decrypt_rsa(c, d, n):\n",
    "    m = power_mod(c, d, n)\n",
    "    return  m"
   ]
  },
  {
   "cell_type": "markdown",
   "metadata": {},
   "source": [
    "* Giải mã $c$ thành $m$:"
   ]
  },
  {
   "cell_type": "code",
   "execution_count": 18,
   "metadata": {},
   "outputs": [
    {
     "name": "stdout",
     "output_type": "stream",
     "text": [
      "m = cf62bcafdc7eee18137639ccf6adad7981bf5409aaab2e057b02712c85619a2e\n"
     ]
    }
   ],
   "source": [
    "m = decrypt_rsa(c,d,n)\n",
    "print(\"m =\",format(m,\"x\"))"
   ]
  },
  {
   "cell_type": "markdown",
   "metadata": {},
   "source": [
    "#### 5. Chữ ký số RSA"
   ]
  },
  {
   "cell_type": "markdown",
   "metadata": {},
   "source": [
    "Chữ ký số có rất nhiều ứng dụng trong thực tế như xác thực dữ liệu, bảo đảm tính toàn vẹn dữ liệu, xác minh chủ sử hữu dữ liệu. Thuật toán RSA có thể được dùng để tạo và kiểm tra chữ ký số."
   ]
  },
  {
   "cell_type": "markdown",
   "metadata": {},
   "source": [
    "##### Quá trình ký số  \n",
    "Người gửi A muốn gửi cho người nhận B thông điệp $M$ có kèm chữ ký:  \n",
    "* Sử dụng một thuật toán băm đã thống nhất chung với B, tính giá trị băm $H$ từ thông điệp $M$.\n",
    "* Biểu diễn $H$ dưới dạng một số nguyên $m$,$1 < m < n$.\n",
    "* Sử dụng khóa bí mật của mình $(n, d)$, tính toán chữ ký $s = m^d \\; mod \\; n$.\n",
    "* Gửi $s$ kèm theo thông điệp $M$ cho người nhận B."
   ]
  },
  {
   "cell_type": "markdown",
   "metadata": {},
   "source": [
    "\n",
    "##### Quá trình kiểm tra chữ ký\n",
    "Người nhận B nhận được thông điệp $M$ và chữ ký $s$:\n",
    "* Dùng khóa công khai $(n,e)$ của A để tính giá trị $v = s^e \\; mod \\; n$.\n",
    "* Tính giá trị băm $H$ từ giá trị $v$.\n",
    "* Tính giá trị băm $H'$ từ thông điệp nhận được $M$.\n",
    "* Nếu $H \\equiv H'$ thì chữ ký hợp lệ, ngược lại chữ ký không hợp lệ."
   ]
  },
  {
   "cell_type": "markdown",
   "metadata": {},
   "source": [
    "### III. Hàm băm SHA-256"
   ]
  },
  {
   "cell_type": "markdown",
   "metadata": {},
   "source": [
    "#### 1. Giới thiệu\n",
    "SHA-256 là một giải thuật hàm băm. Dùng để tạo ra các hàm băm không thể đảo ngược và duy nhất. Số lượng hàm băm càng lớn thì xác suất giá trị băm trùng nhau càng nhỏ. SHA-256 nhận đầu vào là sâu bit độ dài bất kì $< 2^{64}$ và cho ra xâu bit độ dài 256 bit là kết quả băm."
   ]
  },
  {
   "cell_type": "markdown",
   "metadata": {},
   "source": [
    "\n",
    "#### 2. Mô tả\n",
    "Đầu vào của thuật toán là một chuỗi bit có độ dài bất kì, được xử lý qua các bước sau.  \n",
    "Bước 1: Nối bit đệm \n",
    "* Dữ liệu đầu vào được thêm vào các bit đệm sao cho độ dài tương ứng là đồng dư của $448(mod\\;{512})$. Phần đệm luôn được thêm vào ngay cả khi độ dài chuỗi gốc đã thỏa mã $\\equiv 448(mod \\; 512)$, phần đệm bắt đầu bằng một bit 1 và sau đó là các bit 0 cho đến khi đủ độ dài cần thiết.<br/>\n",
    "\n",
    "Bước 2: Nối chiều dài\n",
    "* Một khối 64 bit được nối thêm vào dữ liệu. Khối này là giá trị bit của số nguyên biểu diễn độ dài của chuỗi dữ liệu gốc.\n",
    "* Kết quả của 2 bước trên cho ta một chuỗi dữ liệu có độ dài là bội số của 512. Ta sẽ chia chuỗi dữ liệu thành $N$ khối có độ dài 512 bit.<br/>\n",
    "\n",
    "Bước 3: Khởi tạo giá trị băm ban đầu  \n",
    "* Giá trị 256 bit băm được biểu diễn thành 8 thanh ghi đệm $a,b,c,d,e,f,g,h$, mỗi thanh có độ dài 32 bit\n",
    "* Ban đầu các thanh ghi $a,b,c,d,e,f,g,h$ sẽ được gán các giá trị băm khởi tạo.<br/>\n",
    "\n",
    "Bước 4: $N$ khối 512 bit được xử lý lần lượt và cho ra chuỗi băm kết quả.  \n",
    "Thao tác với mỗi khối 512 bit thứ $i$ sử dụng kết quả của các thanh ghi ${abcdefgh}_{i-1}$ và cho ra ${abcdefgh}_i$:  \n",
    "* Khối 512 bit được phân bổ vào 64 từ $w_t$\n",
    "* 64 từ vừa được tạo sẽ được dùng tương ứng trong 64 vòng lặp. Mỗi vòng thứ $t$ sẽ lấy giá trị các bộ đệm $a_{t-1},b_{t-1},c_{t-1},d_{t-1},e_{t-1},f_{t-1},g_{t-1},h_{t-1}$ ở vòng $t-1$ kết hợp với hằng số cộng $k_t$ và từ $w_t$ để tính toán và cập nhập lại giá trị của chúng.\n",
    "\n",
    "Chi tiết tính toán ở mỗi vòng $t$ trong 64 vòng với khối 512 bit thứ $i$ như sau:  \n",
    "  $T_1=h+Ch(e,f,g)+(\\sum_1^{256}e)+w_t+k_t$<br/>\n",
    "  $T_2=(\\sum_0^{256}a)+Maj(a,b,c)$<br/>\n",
    "  $h=g$<br/>\n",
    "  $g=f$<br/>\n",
    "  $f=e$<br/>\n",
    "  $e=d+T_1$<br/>\n",
    "  $d=c$<br/>\n",
    "  $c=b$<br/>\n",
    "  $b=a$<br/>\n",
    "  $a=T_1+T_2$<br/>  \n",
    "\n",
    "Với:<br/>\n",
    "  $1\\leq i\\leq N$<br/>\n",
    "  $0\\leq t\\leq63$<br/>\n",
    "  $Ch(e,f,g)=(e$ $AND$ $f)\\oplus($$NOT$ $e$ $AND$ $g)$<br/>\n",
    "  $Maj(a,b,c)=(a$ $AND$ $b)\\oplus(a$ $AND$ $c) \\oplus (b$ $AND$ $c)$<br/>\n",
    "  $(\\sum_1^{256}e)=$ ${ROTR}^{6}(e)\\oplus{ROTR}^{11}(e)\\oplus{ROTR}^{25}(e)$<br/>\n",
    "  $(\\sum_0^{256}a)=$ ${ROTR}^{2}(a)\\oplus{ROTR}^{13}(a)\\oplus{ROTR}^{22}(a)$<br/>\n",
    "  ${ROTR}^{n}(x)$ là phép dịch vòng sâu nhị phân $x$ sang phải $n$ bit<br />\n",
    "  $w_t$ là từ 32 bit bắt nguồn từ khối đầu vào 512 bit<br/>\n",
    "  $k_t$ là 32 bit hằng số cộng<br />\n",
    "  Phép cộng ở đây là cộng modulo của $2^{32}$<br/>\n",
    "\n",
    "Sau 64 vòng, giá trị ${abcdefgh}_i$ được xác định bằng ${abcdefgh}_{i-1} + abcdefgh$(Cộng modulo $2^{32}$ độc lập tương ứng theo từng thanh ghi)\n",
    "\n",
    "Bước 5: Dữ liệu kết quả\n",
    "* Sau khi xử lý xong tất cả $N$ khối 512 bit, ta sẽ có được ${abcdefgh}_N$ chính là giá trị băm của chuỗi dữ liệu gốc."
   ]
  },
  {
   "cell_type": "markdown",
   "metadata": {},
   "source": [
    "#### 3. Mã cài đặt thuật toán"
   ]
  },
  {
   "cell_type": "markdown",
   "metadata": {},
   "source": [
    "* Giá trị băm khởi tạo"
   ]
  },
  {
   "cell_type": "code",
   "execution_count": 19,
   "metadata": {},
   "outputs": [],
   "source": [
    "initial_hash_values = [\n",
    "    '6a09e667', 'bb67ae85', '3c6ef372', 'a54ff53a',\n",
    "    '510e527f', '9b05688c', '1f83d9ab', '5be0cd19'\n",
    "]"
   ]
  },
  {
   "cell_type": "markdown",
   "metadata": {},
   "source": [
    "* Hằng số SHA256"
   ]
  },
  {
   "cell_type": "code",
   "execution_count": 20,
   "metadata": {},
   "outputs": [],
   "source": [
    "sha256_constants = [\n",
    "    '428a2f98', '71374491', 'b5c0fbcf', 'e9b5dba5',\n",
    "    '3956c25b', '59f111f1', '923f82a4', 'ab1c5ed5',\n",
    "    'd807aa98', '12835b01', '243185be', '550c7dc3',\n",
    "    '72be5d74', '80deb1fe', '9bdc06a7', 'c19bf174',\n",
    "    'e49b69c1', 'efbe4786', '0fc19dc6', '240ca1cc',\n",
    "    '2de92c6f', '4a7484aa', '5cb0a9dc', '76f988da',\n",
    "    '983e5152', 'a831c66d', 'b00327c8', 'bf597fc7',\n",
    "    'c6e00bf3', 'd5a79147', '06ca6351', '14292967',\n",
    "    '27b70a85', '2e1b2138', '4d2c6dfc', '53380d13',\n",
    "    '650a7354', '766a0abb', '81c2c92e', '92722c85',\n",
    "    'a2bfe8a1', 'a81a664b', 'c24b8b70', 'c76c51a3',\n",
    "    'd192e819', 'd6990624', 'f40e3585', '106aa070',\n",
    "    '19a4c116', '1e376c08', '2748774c', '34b0bcb5',\n",
    "    '391c0cb3', '4ed8aa4a', '5b9cca4f', '682e6ff3',\n",
    "    '748f82ee', '78a5636f', '84c87814', '8cc70208',\n",
    "    '90befffa', 'a4506ceb', 'bef9a3f7', 'c67178f2'\n",
    "]"
   ]
  },
  {
   "cell_type": "markdown",
   "metadata": {},
   "source": [
    "* Các phép tính bitwise cần thiết cho thuật toán"
   ]
  },
  {
   "cell_type": "code",
   "execution_count": 21,
   "metadata": {},
   "outputs": [],
   "source": [
    "def and_bit(a, b):\n",
    "    return \"\".join([str(int(a[i]) & int(b[i])) for i in range(len(a))])\n",
    "\n",
    "\n",
    "def not_bit(a):\n",
    "    return \"\".join(['0' if int(a[i]) == 1 else '1' for i in range(len(a))])\n",
    "\n",
    "\n",
    "def xor_bit(a, b):\n",
    "    return \"\".join([str(int(a[i]) ^^ int(b[i])) for i in range(len(a))])\n",
    "\n",
    "\n",
    "def shr_bit(a, n):\n",
    "    for _ in range(n):\n",
    "        a = '0' + a[:-1]\n",
    "\n",
    "    return a\n",
    "\n",
    "\n",
    "def rotr_bit(a, n):\n",
    "    for _ in range(n):\n",
    "        a = a[-1] + a[:-1]\n",
    "    return a\n",
    "\n",
    "\n",
    "def dec2bin(d, digit):\n",
    "    return format(d, \"0%db\" % digit)\n",
    "\n",
    "\n",
    "def hex2dec(h):\n",
    "    return int(h, 16)\n",
    "\n",
    "\n",
    "def dec2hex(d, digit):\n",
    "    return format(d, \"0%dx\" % digit)"
   ]
  },
  {
   "cell_type": "markdown",
   "metadata": {},
   "source": [
    "* Các phép tính cho mỗi vòng $t$ như $Ch$, $Maj$, $(\\sum_1^{256}e)$, $(\\sum_0^{256}e)$"
   ]
  },
  {
   "cell_type": "code",
   "execution_count": 22,
   "metadata": {},
   "outputs": [],
   "source": [
    "def ch(e, f, g):\n",
    "    return xor_bit(and_bit(e, f), and_bit(not_bit(e), g))\n",
    "\n",
    "\n",
    "def maj(a, b, c):\n",
    "    return xor_bit(xor_bit(and_bit(a, b), and_bit(a, c)), and_bit(b, c))\n",
    "\n",
    "\n",
    "def e_0(a):\n",
    "    return xor_bit(xor_bit(rotr_bit(a, 2), rotr_bit(a, 13)), rotr_bit(a, 22))\n",
    "\n",
    "\n",
    "def e_1(e):\n",
    "    return xor_bit(xor_bit(rotr_bit(e, 6), rotr_bit(e, 11)), rotr_bit(e, 25))\n",
    "\n",
    "\n",
    "def s_0(a):\n",
    "    return xor_bit(xor_bit(rotr_bit(a, 7), rotr_bit(a, 18)), shr_bit(a, 3))\n",
    "\n",
    "def s_1(e):\n",
    "    return xor_bit(xor_bit(rotr_bit(e, 17), rotr_bit(e, 19)), shr_bit(e, 10))"
   ]
  },
  {
   "cell_type": "markdown",
   "metadata": {},
   "source": [
    "* Các phép cộng modulo, đệm bit, chia khối, nối thêm chiều dài bit, phân khúc thông điệp"
   ]
  },
  {
   "cell_type": "code",
   "execution_count": 23,
   "metadata": {},
   "outputs": [],
   "source": [
    "def add_modulo(l):\n",
    "    mod = 2 ** 32\n",
    "    res = 0\n",
    "    for i in l:\n",
    "        res = (res + i) % mod\n",
    "\n",
    "    return res\n",
    "\n",
    "\n",
    "def padding_bits(m):\n",
    "    length = len(m)\n",
    "    m += '1'\n",
    "    while len(m) % 512 != 448:\n",
    "        m += '0'\n",
    "\n",
    "    return m + dec2bin(length, 64)\n",
    "\n",
    "\n",
    "def separate(m):\n",
    "    return [m[i * 512:i * 512 + 512] for i in range(len(m) // 512)]\n",
    "\n",
    "\n",
    "def to_bin(m):\n",
    "    return \"\".join([str(dec2bin(ord(c), 8)) for c in m])\n",
    "\n",
    "\n",
    "def message_schedule(m):\n",
    "    res = [m[i * 32:i * 32 + 32] for i in range(len(m) // 32)]\n",
    "    for i in range(16, 64):\n",
    "        res.append(dec2bin(add_modulo([int(s_1(res[i - 2]), 2), int(res[i - 7], 2), int(s_0(res[i - 15]), 2), int(res[i - 16], 2)]), 32))\n",
    "\n",
    "    return res"
   ]
  },
  {
   "cell_type": "markdown",
   "metadata": {},
   "source": [
    "* Thuật toán băm SHA256"
   ]
  },
  {
   "cell_type": "code",
   "execution_count": 24,
   "metadata": {},
   "outputs": [],
   "source": [
    "def sha256(m):\n",
    "    blocks = separate(padding_bits(to_bin(m)))\n",
    "    hash_buffer = [initial_hash_values[i] for i in range(8)]\n",
    "\n",
    "    for b in blocks:\n",
    "        words = message_schedule(b)\n",
    "        a = dec2bin(hex2dec(hash_buffer[0]), 32)\n",
    "        b = dec2bin(hex2dec(hash_buffer[1]), 32)\n",
    "        c = dec2bin(hex2dec(hash_buffer[2]), 32)\n",
    "        d = dec2bin(hex2dec(hash_buffer[3]), 32)\n",
    "        e = dec2bin(hex2dec(hash_buffer[4]), 32)\n",
    "        f = dec2bin(hex2dec(hash_buffer[5]), 32)\n",
    "        g = dec2bin(hex2dec(hash_buffer[6]), 32)\n",
    "        h = dec2bin(hex2dec(hash_buffer[7]), 32)\n",
    "\n",
    "        for i in range(64):\n",
    "            t_1 = add_modulo([int(h, 2), int(ch(e, f, g), 2), int(e_1(e), 2), int(words[i], 2), hex2dec(sha256_constants[i])])\n",
    "            t_2 = add_modulo([int(e_0(a), 2), int(maj(a, b, c), 2)])\n",
    "\n",
    "            h = g\n",
    "            g = f\n",
    "            f = e\n",
    "            e = dec2bin(add_modulo([int(d, 2), t_1]), 32)\n",
    "            d = c\n",
    "            c = b\n",
    "            b = a\n",
    "            a = dec2bin(add_modulo([t_1, t_2]), 32)\n",
    "\n",
    "        hash_buffer[0] = dec2hex(add_modulo([hex2dec(hash_buffer[0]), int(a, 2)]), 8)\n",
    "        hash_buffer[1] = dec2hex(add_modulo([hex2dec(hash_buffer[1]), int(b, 2)]), 8)\n",
    "        hash_buffer[2] = dec2hex(add_modulo([hex2dec(hash_buffer[2]), int(c, 2)]), 8)\n",
    "        hash_buffer[3] = dec2hex(add_modulo([hex2dec(hash_buffer[3]), int(d, 2)]), 8)\n",
    "        hash_buffer[4] = dec2hex(add_modulo([hex2dec(hash_buffer[4]), int(e, 2)]), 8)\n",
    "        hash_buffer[5] = dec2hex(add_modulo([hex2dec(hash_buffer[5]), int(f, 2)]), 8)\n",
    "        hash_buffer[6] = dec2hex(add_modulo([hex2dec(hash_buffer[6]), int(g, 2)]), 8)\n",
    "        hash_buffer[7] = dec2hex(add_modulo([hex2dec(hash_buffer[7]), int(h, 2)]), 8)\n",
    "\n",
    "    return \"\".join(hash_buffer)"
   ]
  },
  {
   "cell_type": "markdown",
   "metadata": {},
   "source": [
    "* Thử kiểm tra băm một chuỗi và so sánh kết quả với thư viện chuẩn:"
   ]
  },
  {
   "cell_type": "code",
   "execution_count": 37,
   "metadata": {},
   "outputs": [
    {
     "name": "stdout",
     "output_type": "stream",
     "text": [
      "51a1f5d2734394cd82284a9820c3de5c048a57fe2639f88cdb7267ecd5d2e2c8\n",
      "51a1f5d2734394cd82284a9820c3de5c048a57fe2639f88cdb7267ecd5d2e2c8\n"
     ]
    }
   ],
   "source": [
    "import hashlib\n",
    "\n",
    "plain = \"abccd\"\n",
    "print(sha256(plain))\n",
    "print(hashlib.sha256(plain.encode(\"utf-8\")).hexdigest())"
   ]
  },
  {
   "cell_type": "markdown",
   "metadata": {},
   "source": [
    "### IV. Ứng dụng thực tế"
   ]
  },
  {
   "cell_type": "markdown",
   "metadata": {},
   "source": [
    "Trong thực tế thuật toán mã hóa khóa công khai RSA thường chỉ được sử dụng để mã hóa khóa phiên cho một hệ mã khóa đối xứng như TDEA hay AES, sau đó khóa phiên được dùng để mã hóa các thông điệp giao tiếp thực sự. Dưới đây trình bày một ứng dụng thực tế bao gồm:  \n",
    "* Dùng RSA trao đổi khóa phiên dùng cho hệ mã khóa đối xứng TDEA để mã hóa các thông điệp tiếp theo  \n",
    "* Dùng TDEA mã hóa thông điệp  \n",
    "* Dùng hàm băm SHA-256 để băm thông điệp\n",
    "* Dùng chữ ký số RSA để ký và kiểm tra chữ ký trên thông điệp"
   ]
  },
  {
   "cell_type": "markdown",
   "metadata": {},
   "source": [
    "##### Kịch bản: người dùng A muốn gửi một thông điệp đến người dùng B, có sự xác thực.\n"
   ]
  },
  {
   "cell_type": "markdown",
   "metadata": {},
   "source": [
    "##### Người dùng A  \n",
    "* Tạo một cặp khóa công khai $(n_A,e_A)$ và khóa bí mật $(n_A,d_A)$ dùng để ký lên thông điệp muốn gửi cho người dùng B  "
   ]
  },
  {
   "cell_type": "code",
   "execution_count": 26,
   "metadata": {},
   "outputs": [
    {
     "name": "stdout",
     "output_type": "stream",
     "text": [
      "e_A = 22287a34ded6f1b0c9ac60153154638b4c83371b1d035a93ebfc41fa18a6cb200acda779668867d47dd82b9c4fbf92954ad5897aec65eb358a04a8f2ecb4eb5\n",
      "d_A = 15bcaf8d623df86d4ad80fb52740f452819a4b8f75ba272aa246e0bfab28059721377849c812a11cffe8b1822569b1b668fcf46d1a348e9d7464ad8c490c1d\n",
      "n_A = e753cda89d97270bf0ced313845ef70502ef415e953c66ef9ab8508e469137636ca5574466312d4662c73ef4cac61f4f76110953bb87cb813bed03f31a3c219\n"
     ]
    }
   ],
   "source": [
    "e_A,d_A,n_A = rsa(256)\n",
    "print(\"e_A =\",format(e_A,\"x\"))\n",
    "print(\"d_A =\",format(d_A,\"x\"))\n",
    "print(\"n_A =\",format(n_A,\"x\"))"
   ]
  },
  {
   "cell_type": "markdown",
   "metadata": {},
   "source": [
    "* Tạo một bộ khóa phiên $K$ dùng mã hóa thông điệp trao đổi giữa A và B bằng TDEA  "
   ]
  },
  {
   "cell_type": "code",
   "execution_count": 27,
   "metadata": {},
   "outputs": [
    {
     "name": "stdout",
     "output_type": "stream",
     "text": [
      "('0000000100100011010001010110011110001001101010111100110111101111', '0010001101000101011001111000100110101011110011011110111100000001', '0000000100100011010001010110011110001001101010111100110111101111')\n"
     ]
    }
   ],
   "source": [
    "key1 = hex2bin(\"0123456789abcdef\")\n",
    "key2 = hex2bin(\"23456789abcdef01\")\n",
    "key3 = hex2bin(\"0123456789abcdef\")\n",
    "\n",
    "K = (key1,key2,key3)\n",
    "print(K)"
   ]
  },
  {
   "cell_type": "markdown",
   "metadata": {},
   "source": [
    "##### Người dùng B\n",
    "* Tạo một cặp khóa công khai $(n_B,e_B)$ và khóa bí mật $(n_B,d_B)$ dùng để mã hóa và giải mã khóa phiên $K$"
   ]
  },
  {
   "cell_type": "code",
   "execution_count": 28,
   "metadata": {},
   "outputs": [
    {
     "name": "stdout",
     "output_type": "stream",
     "text": [
      "e_B = 55d58ac2c345a14565005644b087bca5cacd32a1cb21728c74fce018f7da33270d239f0389ec92678d5e8a945156f9e277100a50652ac09662e2e1749c99f5f\n",
      "d_B = 3e614031ff7836d9e502472c01e002f5d7c894b76b0429f6d85b0dc4bf6a5f913e0cae684885c1a80034a3dfc2daa0462d0a84137f0228ba7f38623287539f9b\n",
      "n_B = 64dbbfe245c0348fb4642a5f2844fa5fd5dc5bc2f7ae19807f6003e82274ca763ce6352862d182289197de0b93d38f121320948e27ca225d8d273b99593d39d5\n"
     ]
    }
   ],
   "source": [
    "e_B,d_B,n_B = rsa(256)\n",
    "print(\"e_B =\",format(e_B,\"x\"))\n",
    "print(\"d_B =\",format(d_B,\"x\"))\n",
    "print(\"n_B =\",format(n_B,\"x\"))"
   ]
  },
  {
   "cell_type": "markdown",
   "metadata": {},
   "source": [
    "**_Cả 2 thống nhất dùng TDEA để mã hóa thông tin và dùng SHA-256 trong việc xác minh thông tin_**"
   ]
  },
  {
   "cell_type": "markdown",
   "metadata": {},
   "source": [
    "##### Trao đổi khóa phiên"
   ]
  },
  {
   "cell_type": "markdown",
   "metadata": {},
   "source": [
    "* A dùng khóa công khai của B để mã hóa khóa phiên và gửi cho B"
   ]
  },
  {
   "cell_type": "code",
   "execution_count": 29,
   "metadata": {},
   "outputs": [
    {
     "name": "stdout",
     "output_type": "stream",
     "text": [
      "(786868639339874809281030589651646614420232107627867597401135446972938400820131911764363197451270339496561962160745211484511130732430459366080440206546526, 4523280133361782471381703861731781739111434839798234915576389681462728867965279092248643257250631392541143749328041071974992442734132463562726937313944777, 786868639339874809281030589651646614420232107627867597401135446972938400820131911764363197451270339496561962160745211484511130732430459366080440206546526)\n"
     ]
    }
   ],
   "source": [
    "K_c = (encrypt_rsa(int(K[0],2),e_B,n_B),encrypt_rsa(int(K[1],2),e_B,n_B),encrypt_rsa(int(K[2],2),e_B,n_B))\n",
    "print(K_c)"
   ]
  },
  {
   "cell_type": "markdown",
   "metadata": {},
   "source": [
    "* B dùng khóa bí mật của mình để giải mã và nhận được khóa phiên $K$"
   ]
  },
  {
   "cell_type": "code",
   "execution_count": 30,
   "metadata": {},
   "outputs": [
    {
     "name": "stdout",
     "output_type": "stream",
     "text": [
      "('0000000100100011010001010110011110001001101010111100110111101111', '0010001101000101011001111000100110101011110011011110111100000001', '0000000100100011010001010110011110001001101010111100110111101111')\n",
      "True\n"
     ]
    }
   ],
   "source": [
    "K1 = (format(decrypt_rsa(K_c[0],d_B,n_B),\"064b\"),format(decrypt_rsa(K_c[1],d_B,n_B),\"064b\"),format(decrypt_rsa(K_c[2],d_B,n_B),\"064b\"))\n",
    "print(K1)\n",
    "print(K == K1)"
   ]
  },
  {
   "cell_type": "markdown",
   "metadata": {},
   "source": [
    "##### Tiến hành trao đổi"
   ]
  },
  {
   "cell_type": "markdown",
   "metadata": {},
   "source": [
    "* A mã hóa thông điệp $m$ bởi $c$ và tạo giá trị băm $H$"
   ]
  },
  {
   "cell_type": "code",
   "execution_count": 39,
   "metadata": {},
   "outputs": [
    {
     "name": "stdout",
     "output_type": "stream",
     "text": [
      "m = cafebabebabecafe\n",
      "H = 8453f68820b72b9d2c93bfe964def8d32aeb5bb2b17995fc3ac9b79a87ad9642\n"
     ]
    }
   ],
   "source": [
    "m = \"cafebabebabecafe\"\n",
    "print(\"m =\",m)\n",
    "H = sha256(m)\n",
    "print(\"H =\",H)\n",
    "\n",
    "k1 = gen_key_table(K[0])\n",
    "k2 = gen_key_table(K[1])\n",
    "k3 = gen_key_table(K[2])\n",
    "\n",
    "m = hex2bin(m)\n",
    "\n",
    "c = encrypt_data(m,k1)\n",
    "c = decrypt_data(c,k2)\n",
    "c = encrypt_data(c,k3)"
   ]
  },
  {
   "cell_type": "markdown",
   "metadata": {},
   "source": [
    "* A dùng khóa bí mật của mình tạo chữ ký $s$ lên thông điệp $m$ và gửi cho B bộ $(c,s)$"
   ]
  },
  {
   "cell_type": "code",
   "execution_count": 40,
   "metadata": {},
   "outputs": [
    {
     "name": "stdout",
     "output_type": "stream",
     "text": [
      "(c, s) = (7f285f02ca8bdfda, 22a552f42deff7e9c893a7faa557de75a92ef35125e85e81fc181512358ffda78c0266e8a9aebeba0772d959dde81738034ad6f9078d806749785fd093f2230)\n"
     ]
    }
   ],
   "source": [
    "s = power_mod(int(H,16),d_A,n_A)\n",
    "print(\"(c, s) = (%s, %s)\" % (bin2hex(c),format(s,\"x\")))"
   ]
  },
  {
   "cell_type": "markdown",
   "metadata": {},
   "source": [
    "* B nhận được bộ $(c,s)$ tiến hành giải mã thông điệp $m'$ và kiểm tra chữ ký $s$ bằng khóa công khai của A"
   ]
  },
  {
   "cell_type": "code",
   "execution_count": 41,
   "metadata": {},
   "outputs": [
    {
     "name": "stdout",
     "output_type": "stream",
     "text": [
      "m' = cafebabebabecafe\n",
      "H' = 8453f68820b72b9d2c93bfe964def8d32aeb5bb2b17995fc3ac9b79a87ad9642\n",
      "H = 8453f68820b72b9d2c93bfe964def8d32aeb5bb2b17995fc3ac9b79a87ad9642\n",
      "Chu ky hop le!\n"
     ]
    }
   ],
   "source": [
    "m1 = decrypt_data(c,k3)\n",
    "m1 = encrypt_data(m1,k2)\n",
    "m1 = decrypt_data(m1,k1)\n",
    "m1 = bin2hex(m1)\n",
    "print(\"m' =\",m1)\n",
    "\n",
    "H1 = sha256(m1)\n",
    "H = format(power_mod(s,e_A,n_A),\"x\")\n",
    "print(\"H' =\",H1)\n",
    "print(\"H =\",H)\n",
    "\n",
    "if (H1 == H):\n",
    "    print(\"Chu ky hop le!\")\n",
    "else:\n",
    "    print(\"Chu ky khong hop le!\")"
   ]
  }
 ],
 "metadata": {
  "kernelspec": {
   "display_name": "SageMath 9.2",
   "language": "sage",
   "name": "sagemath"
  },
  "language_info": {
   "codemirror_mode": {
    "name": "ipython",
    "version": 3
   },
   "file_extension": ".py",
   "mimetype": "text/x-python",
   "name": "python",
   "nbconvert_exporter": "python",
   "pygments_lexer": "ipython3",
   "version": "3.7.7"
  }
 },
 "nbformat": 4,
 "nbformat_minor": 4
}
