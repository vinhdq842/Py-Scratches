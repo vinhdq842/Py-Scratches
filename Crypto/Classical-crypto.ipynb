{
 "cells": [
  {
   "cell_type": "markdown",
   "metadata": {},
   "source": [
    "## Mật mã và an toàn dữ liệu\n",
    "### Bài thu hoạch: các hệ mật mã cổ điển  \n",
    "**Họ và tên**: Đặng Quang Vinh  \n",
    "**Mã sinh viên**: 18001218"
   ]
  },
  {
   "cell_type": "markdown",
   "metadata": {},
   "source": [
    "Xét bảng chữ cái $\\mathbb{A} = \\{A, B, C,...,Z\\}$ và tập số nguyên modulo 26 $\\mathbb{Z}_{26} = \\{0, 1, 2,..., 25\\}$, ta định nghĩa một song ánh $f: \\mathbb{A} \\rightarrow \\mathbb{Z}_{26}$ sao cho $f(A) = 0,\\;f(B) = 1,...,\\;f(Z) = 25$. Khi đó, mỗi chữ cái trong $\\mathbb{A}$ đều có thể được biểu diễn bằng một số nguyên. Ta sẽ thực hiện thao tác tính toán trên số nguyên đại diện của các chữ cái rồi đổi kết quả ngược về chữ cái."
   ]
  },
  {
   "cell_type": "markdown",
   "metadata": {},
   "source": [
    "#### 1. Mã hóa dịch vòng"
   ]
  },
  {
   "cell_type": "markdown",
   "metadata": {},
   "source": [
    "Mã hóa dịch vòng được định nghĩa bằng cách dịch chữ cái đi $k(0 \\leq k \\leq 25)$ vị trí trong bảng chữ cái, $k$ ở đây có vai trò là khóa bí mật. Với khóa bí mật $k$, một kí tự bản rõ $p \\in \\mathbb{A}$ thì kí tự bản mã tương ứng $c \\in \\mathbb{A}$ được định nghĩa qua ánh xạ mã hóa: $c = e_k(p) = p + k\\;(mod\\;26)$. Ngược lại, với khóa bí mật $k$, kí tự bản mã $c$ thì kí tự bản rõ $p$ được định nghĩa qua ánh xạ giải mã: $p = d_k(c) = c - k\\;(mod\\;26)$. Các phép tính được thực hiện trên số nguyên đại diện của chữ cái. Đặc biệt với khóa $k = 3$ thì mã dịch vòng có tên gọi khác là mã Caesar theo tên của Julius Caesar - người đầu tiên sử dụng mã hóa này."
   ]
  },
  {
   "cell_type": "markdown",
   "metadata": {},
   "source": [
    "**Ví dụ với Sagemath:**"
   ]
  },
  {
   "cell_type": "markdown",
   "metadata": {},
   "source": [
    "* Với $k$ = 3, $p$ = \"Toi yeu Viet Nam!\""
   ]
  },
  {
   "cell_type": "code",
   "execution_count": 1,
   "metadata": {},
   "outputs": [
    {
     "data": {
      "text/plain": [
       "TOIYEUVIETNAM"
      ]
     },
     "execution_count": 1,
     "metadata": {},
     "output_type": "execute_result"
    }
   ],
   "source": [
    "S = ShiftCryptosystem(AlphabeticStrings())\n",
    "P = \"Toi yeu Viet Nam!\"\n",
    "P = S.encoding(P);P"
   ]
  },
  {
   "cell_type": "code",
   "execution_count": 2,
   "metadata": {},
   "outputs": [
    {
     "data": {
      "text/plain": [
       "WRLBHXYLHWQDP"
      ]
     },
     "execution_count": 2,
     "metadata": {},
     "output_type": "execute_result"
    }
   ],
   "source": [
    "K = 3\n",
    "C = S.enciphering(K,P);C"
   ]
  },
  {
   "cell_type": "code",
   "execution_count": 3,
   "metadata": {},
   "outputs": [
    {
     "data": {
      "text/plain": [
       "TOIYEUVIETNAM"
      ]
     },
     "execution_count": 3,
     "metadata": {},
     "output_type": "execute_result"
    }
   ],
   "source": [
    "S.deciphering(K,C)"
   ]
  },
  {
   "cell_type": "code",
   "execution_count": 4,
   "metadata": {},
   "outputs": [
    {
     "data": {
      "text/plain": [
       "True"
      ]
     },
     "execution_count": 4,
     "metadata": {},
     "output_type": "execute_result"
    }
   ],
   "source": [
    "P == S.deciphering(K,C)"
   ]
  },
  {
   "cell_type": "markdown",
   "metadata": {},
   "source": [
    "* Với $k$, $p$ bất kì từ bàn phím"
   ]
  },
  {
   "cell_type": "code",
   "execution_count": 5,
   "metadata": {},
   "outputs": [
    {
     "data": {
      "application/vnd.jupyter.widget-view+json": {
       "model_id": "7487565d7f78486c898023699635c532",
       "version_major": 2,
       "version_minor": 0
      },
      "text/plain": [
       "Interactive function <function _ at 0x6fcfd052f80> with 2 widgets\n",
       "  k: Text(value='10', description='k')\n",
       "  p: …"
      ]
     },
     "metadata": {},
     "output_type": "display_data"
    }
   ],
   "source": [
    "@interact\n",
    "def _(k = \"10\",p = \"Quyet thang dai dich!\"):\n",
    "    S = ShiftCryptosystem(AlphabeticStrings())\n",
    "    P = S.encoding(p)\n",
    "    print(\"Bản rõ: %s\" % P)\n",
    "    \n",
    "    K = int(k)\n",
    "    C = S.enciphering(K,P)\n",
    "    print(\"Bản mã: %s\" % C)\n",
    "    \n",
    "    print(\"Giải mã: %s\" % (S.deciphering(K, C)))"
   ]
  },
  {
   "cell_type": "markdown",
   "metadata": {},
   "source": [
    "#### 2. Mã hóa thay thế"
   ]
  },
  {
   "cell_type": "markdown",
   "metadata": {},
   "source": [
    "Mã hóa thay thế dựa trên không gian khóa $\\mathbb{K}$ là tập hợp tất cả các hoán vị của 26 chữ cái. Với mỗi $k \\in \\mathbb{K}$ là một hoán vị bất kì của 26 chữ cái, $k= a_0a_1a_2...a_{25}\\;(a_i \\in \\mathbb{A})$, ta định nghĩa ánh xạ mã hóa một kí tự $x$ là $e_k(x): e_k(A) = a_0,...,e_k(Z)=a_{25}$ và ánh xạ giải mã kí tự $x$ là $d_k(x): d_k(a_0) = A,...,d_k(a_{25}) = Z$. Không gian khóa của mã hóa thay thế có lực lượng là $26!$, khá lớn nếu muốn thực hiện tấn công vét cạn khóa."
   ]
  },
  {
   "cell_type": "markdown",
   "metadata": {},
   "source": [
    "**Ví dụ với Sagemath:**"
   ]
  },
  {
   "cell_type": "markdown",
   "metadata": {},
   "source": [
    "* Với $k$ = XNYAHPOGZQWBTSFLRCVMUEKJDI, $p$ = \"Toi yeu Viet Nam!\""
   ]
  },
  {
   "cell_type": "code",
   "execution_count": 6,
   "metadata": {},
   "outputs": [
    {
     "data": {
      "text/plain": [
       "TOIYEUVIETNAM"
      ]
     },
     "execution_count": 6,
     "metadata": {},
     "output_type": "execute_result"
    }
   ],
   "source": [
    "S = SubstitutionCryptosystem(AlphabeticStrings())\n",
    "P = \"Toi yeu Viet Nam!\"\n",
    "P = S.encoding(P);P"
   ]
  },
  {
   "cell_type": "code",
   "execution_count": 7,
   "metadata": {},
   "outputs": [
    {
     "data": {
      "text/plain": [
       "MFZDHUEZHMSXT"
      ]
     },
     "execution_count": 7,
     "metadata": {},
     "output_type": "execute_result"
    }
   ],
   "source": [
    "K = 'XNYAHPOGZQWBTSFLRCVMUEKJDI'\n",
    "K = S.encoding(K)\n",
    "C = S.enciphering(K,P);C"
   ]
  },
  {
   "cell_type": "code",
   "execution_count": 8,
   "metadata": {},
   "outputs": [
    {
     "data": {
      "text/plain": [
       "TOIYEUVIETNAM"
      ]
     },
     "execution_count": 8,
     "metadata": {},
     "output_type": "execute_result"
    }
   ],
   "source": [
    "S.deciphering(K,C)"
   ]
  },
  {
   "cell_type": "code",
   "execution_count": 9,
   "metadata": {},
   "outputs": [
    {
     "data": {
      "text/plain": [
       "True"
      ]
     },
     "execution_count": 9,
     "metadata": {},
     "output_type": "execute_result"
    }
   ],
   "source": [
    "P == S.deciphering(K,C)"
   ]
  },
  {
   "cell_type": "markdown",
   "metadata": {},
   "source": [
    "* Với $k$, $p$ bất kì từ bàn phím"
   ]
  },
  {
   "cell_type": "code",
   "execution_count": 10,
   "metadata": {},
   "outputs": [
    {
     "data": {
      "application/vnd.jupyter.widget-view+json": {
       "model_id": "b89dfde2b28849a5806af709e6f59b02",
       "version_major": 2,
       "version_minor": 0
      },
      "text/plain": [
       "Interactive function <function _ at 0x6fcfce13dd0> with 2 widgets\n",
       "  k: Text(value='WICPVTBZYQEXKLUHOFSGRNJAMD'…"
      ]
     },
     "metadata": {},
     "output_type": "display_data"
    }
   ],
   "source": [
    "S = SubstitutionCryptosystem(AlphabeticStrings())\n",
    "\n",
    "@interact\n",
    "def _(k = str(S.random_key()),p = \"Viet Nam vo dich!\"):\n",
    "    P = S.encoding(p)\n",
    "    print(\"Bản rõ: %s\" % P)\n",
    "    \n",
    "    K = S.encoding(k)\n",
    "    C = S.enciphering(K,P)\n",
    "    print(\"Bản mã: %s\" % C)\n",
    "    \n",
    "    print(\"Giải mã: %s\" % (S.deciphering(K, C)))"
   ]
  },
  {
   "cell_type": "markdown",
   "metadata": {},
   "source": [
    "#### 3. Mã hóa hoán vị"
   ]
  },
  {
   "cell_type": "markdown",
   "metadata": {},
   "source": [
    "Trong mã hóa hoán vị, với mỗi khóa $k$ có độ dài $m$ là một hoán vị của $m$ phần tử $1,2,...,m$ ta sẽ mã hóa bản rõ $P$ bằng cách chia $P$ thành các chuỗi con $P_i$ độ dài $m$, mỗi chuỗi con $P_i$ được hoán vị theo khóa $k$ một cách độc lập và cho ra các chuỗi mã hóa con $C_i$. Ghép các chuỗi mã hóa con $C_i$ lại với nhau ta thu được bản mã $C$. Tương ứng khi giải mã ta sẽ chia bản mã $C$ thành các chuỗi con $C_i$ độ dài $m$, sử dụng phép hoán vị ngược theo khóa $k$ thu được các chuỗi con $P_i$, bản rõ $P$ nhận được bằng cách ghép các chuỗi con $P_i$ lại. Giả sử với một khối bản rõ $P_i = p_1p_2...p_m$, khóa là một hoán vị của $1,2,...,m$ $k = k_1k_2...k_m$ thì ánh xạ mã hóa khối bản rõ $P_i$ là $e_k(p_1p_2...p_m) = p_{k_1}p_{k_2}...p_{k_m}=C_i$. Để giải mã khối bản mã $C_i$ ta làm tương tự như mã hóa nhưng sử dụng khóa hoán vị ngược $k^{-1}$."
   ]
  },
  {
   "cell_type": "markdown",
   "metadata": {},
   "source": [
    "**Ví dụ với Sagemath:**"
   ]
  },
  {
   "cell_type": "markdown",
   "metadata": {},
   "source": [
    "* Với $k$ = [7, 6, 5, 4, 3, 2, 1], $m$ = 7, $p$ = \"Toi yeu Viet Nam!Z\"\n"
   ]
  },
  {
   "cell_type": "code",
   "execution_count": 11,
   "metadata": {},
   "outputs": [
    {
     "data": {
      "text/plain": [
       "TOIYEUVIETNAMZ"
      ]
     },
     "execution_count": 11,
     "metadata": {},
     "output_type": "execute_result"
    }
   ],
   "source": [
    "T = TranspositionCryptosystem(AlphabeticStrings(), 7)\n",
    "P = \"Toi yeu Viet Nam!Z\"\n",
    "P = T.encoding(P);P"
   ]
  },
  {
   "cell_type": "code",
   "execution_count": 12,
   "metadata": {},
   "outputs": [
    {
     "data": {
      "text/plain": [
       "VUEYIOTZMANTEI"
      ]
     },
     "execution_count": 12,
     "metadata": {},
     "output_type": "execute_result"
    }
   ],
   "source": [
    "K = [7, 6, 5, 4, 3, 2, 1]\n",
    "e = T(K)\n",
    "C = e(P);C"
   ]
  },
  {
   "cell_type": "code",
   "execution_count": 13,
   "metadata": {},
   "outputs": [
    {
     "data": {
      "text/plain": [
       "TOIYEUVIETNAMZ"
      ]
     },
     "execution_count": 13,
     "metadata": {},
     "output_type": "execute_result"
    }
   ],
   "source": [
    "d = T(T.inverse_key(e.key()))\n",
    "d(C)"
   ]
  },
  {
   "cell_type": "code",
   "execution_count": 14,
   "metadata": {},
   "outputs": [
    {
     "data": {
      "text/plain": [
       "True"
      ]
     },
     "execution_count": 14,
     "metadata": {},
     "output_type": "execute_result"
    }
   ],
   "source": [
    "d(C) == P"
   ]
  },
  {
   "cell_type": "markdown",
   "metadata": {},
   "source": [
    "#### 4. Mã hóa Affine"
   ]
  },
  {
   "cell_type": "markdown",
   "metadata": {},
   "source": [
    "Trong mã hóa Affine ta chỉ xét các hàm mã hóa thay thế có dạng $e_k(x) = ax + b\\; (mod\\;26)$ với $k = (a,b); a,b \\in \\mathbb{Z}_{26}$ là khóa bí mật, $a$ phải thỏa mãn $UCLN(a,26) = 1$. Hàm giải mã sẽ là $d_k(y) = a^{-1}(y - b)\\;(mod\\;26)$ với $a^{-1} \\in \\mathbb{Z}_{26}$ thỏa mãn $a^{-1}a \\equiv 1 \\;(mod\\;26)$. Trong $\\mathbb{Z}_{26}$ thì các khả năng có thể của a là $1,\n",
    "3, 5, 7, 9, 11, 15, 17, 19, 21, 23, 25$."
   ]
  },
  {
   "cell_type": "markdown",
   "metadata": {},
   "source": [
    "**Ví dụ với Sagemath:**"
   ]
  },
  {
   "cell_type": "markdown",
   "metadata": {},
   "source": [
    "* Với $k = (5,7)$, $p$ = \"Viet Nam chien thang!\""
   ]
  },
  {
   "cell_type": "code",
   "execution_count": 15,
   "metadata": {},
   "outputs": [
    {
     "data": {
      "text/plain": [
       "VIETNAMCHIENTHANG"
      ]
     },
     "execution_count": 15,
     "metadata": {},
     "output_type": "execute_result"
    }
   ],
   "source": [
    "A = AffineCryptosystem(AlphabeticStrings())\n",
    "P = \"Viet Nam chien thang!\"\n",
    "P = A.encoding(P);P"
   ]
  },
  {
   "cell_type": "code",
   "execution_count": 16,
   "metadata": {},
   "outputs": [
    {
     "data": {
      "text/plain": [
       "IVBYUHPRQVBUYQHUL"
      ]
     },
     "execution_count": 16,
     "metadata": {},
     "output_type": "execute_result"
    }
   ],
   "source": [
    "a,b = 5,7\n",
    "C = A.enciphering(a,b,P);C"
   ]
  },
  {
   "cell_type": "code",
   "execution_count": 17,
   "metadata": {},
   "outputs": [
    {
     "data": {
      "text/plain": [
       "VIETNAMCHIENTHANG"
      ]
     },
     "execution_count": 17,
     "metadata": {},
     "output_type": "execute_result"
    }
   ],
   "source": [
    "A.deciphering(a,b,C)"
   ]
  },
  {
   "cell_type": "code",
   "execution_count": 18,
   "metadata": {},
   "outputs": [
    {
     "data": {
      "text/plain": [
       "True"
      ]
     },
     "execution_count": 18,
     "metadata": {},
     "output_type": "execute_result"
    }
   ],
   "source": [
    "P == A.deciphering(a,b,C)"
   ]
  },
  {
   "cell_type": "markdown",
   "metadata": {},
   "source": [
    "* Với khóa $(a,b)$ và bản rõ $p$ từ bàn phím"
   ]
  },
  {
   "cell_type": "code",
   "execution_count": 19,
   "metadata": {},
   "outputs": [
    {
     "data": {
      "application/vnd.jupyter.widget-view+json": {
       "model_id": "29c7e6f894014510bb9a82765059e3b6",
       "version_major": 2,
       "version_minor": 0
      },
      "text/plain": [
       "Interactive function <function _ at 0x6fcfcd9ca70> with 3 widgets\n",
       "  a: Dropdown(description='a', options=(1, 3…"
      ]
     },
     "metadata": {},
     "output_type": "display_data"
    }
   ],
   "source": [
    "@interact\n",
    "def _(a=[1,3,5,7,9,11,15,17,19,21,23,25],b=\"11\",p=\"Co len Viet Nam!\"):\n",
    "    A = AffineCryptosystem(AlphabeticStrings())\n",
    "    P = A.encoding(p)\n",
    "    print(\"Bản rõ: %s\" % P)\n",
    "    \n",
    "    C = A.enciphering(a,int(b) % 26,P)\n",
    "    print(\"Bản mã: %s\" % C)\n",
    "    \n",
    "    print(\"Giải mã: %s\" % (A.deciphering(a,int(b) % 26, C)))\n",
    "    "
   ]
  },
  {
   "cell_type": "markdown",
   "metadata": {},
   "source": [
    "#### 5. Mã hóa Hill"
   ]
  },
  {
   "cell_type": "markdown",
   "metadata": {},
   "source": [
    "Ý tưởng của mã hóa Hill là ta sẽ chia bản rõ $P$ thành các đoạn $P_i$ độ dài $m$ kí tự, mỗi đoạn $C_i$ độ dài $m$ trong bản mã sẽ là tổ hợp tuyến tính của $m$ kí tự trong $P_i$. Khi biểu diễn quan hệ này bằng ma trận thì với khóa $k$ là ma trận vuông khả nghịch cấp $m$, bản rõ dưới dạng ma trận cỡ $1\\times m$ là $P = (p_1\\;p_2\\;...\\;p_m)$ thì bản mã $C = (c_1\\;c_2\\;...\\;c_m)$ sẽ được tính qua công thức:  \n",
    "<center>$C = e_k(P) =  Pk$</center>\n",
    "\n",
    "Do ma trận khóa $k$ là khả nghịch nên tồn tại $k^{-1}$ sao cho $kk^{-1} = I_m$ và ánh xạ giải mã bản mã $C$ sẽ là:  \n",
    "<center>$P = d_k(C) = Ck^{-1}$</center>\n",
    "\n",
    "Các phép toán cộng và nhân 2 số được thực hiện modulo 26. Tính chất khả nghịch và ma trận nghịch đảo cũng được xét trong ngữ cảnh modulo 26."
   ]
  },
  {
   "cell_type": "markdown",
   "metadata": {},
   "source": [
    "**Ví dụ với Sagemath:**"
   ]
  },
  {
   "cell_type": "markdown",
   "metadata": {},
   "source": [
    "* Với $k = [[1,0,1],[0,1,1],[2,2,3]]$, $p$ = \"Chien thang dai dichz!\""
   ]
  },
  {
   "cell_type": "code",
   "execution_count": 20,
   "metadata": {},
   "outputs": [
    {
     "data": {
      "text/plain": [
       "CHIENTHANGDAIDICHZ"
      ]
     },
     "execution_count": 20,
     "metadata": {},
     "output_type": "execute_result"
    }
   ],
   "source": [
    "H = HillCryptosystem(AlphabeticStrings(),3)\n",
    "P = \"Chien thang dai dichz!\"\n",
    "P = H.encoding(P);P"
   ]
  },
  {
   "cell_type": "code",
   "execution_count": 21,
   "metadata": {},
   "outputs": [
    {
     "data": {
      "text/plain": [
       "SXHQZWHAUGDJYTJAFG"
      ]
     },
     "execution_count": 21,
     "metadata": {},
     "output_type": "execute_result"
    }
   ],
   "source": [
    "M = MatrixSpace(IntegerModRing(26),3,3)\n",
    "K = M([[1,0,1],[0,1,1],[2,2,3]])\n",
    "C = H.enciphering(K,P);C"
   ]
  },
  {
   "cell_type": "code",
   "execution_count": 22,
   "metadata": {},
   "outputs": [
    {
     "data": {
      "text/plain": [
       "CHIENTHANGDAIDICHZ"
      ]
     },
     "execution_count": 22,
     "metadata": {},
     "output_type": "execute_result"
    }
   ],
   "source": [
    "H.deciphering(K,C)"
   ]
  },
  {
   "cell_type": "code",
   "execution_count": 23,
   "metadata": {},
   "outputs": [
    {
     "data": {
      "text/plain": [
       "True"
      ]
     },
     "execution_count": 23,
     "metadata": {},
     "output_type": "execute_result"
    }
   ],
   "source": [
    "P == H.deciphering(K,C)"
   ]
  },
  {
   "cell_type": "markdown",
   "metadata": {},
   "source": [
    "* Với $k$ ngẫu nhiên và $p,m$ nhập từ bàn phím"
   ]
  },
  {
   "cell_type": "code",
   "execution_count": 24,
   "metadata": {},
   "outputs": [
    {
     "data": {
      "application/vnd.jupyter.widget-view+json": {
       "model_id": "3311a5fb7faf4a32baf93a57f2dfd305",
       "version_major": 2,
       "version_minor": 0
      },
      "text/plain": [
       "Interactive function <function _ at 0x6fcfc89c680> with 2 widgets\n",
       "  m: Text(value='3', description='m')\n",
       "  p: T…"
      ]
     },
     "metadata": {},
     "output_type": "display_data"
    }
   ],
   "source": [
    "@interact\n",
    "def _(m=\"3\",p=\"Toi yeu HUS!\"):\n",
    "    H = HillCryptosystem(AlphabeticStrings(),int(m))\n",
    "    K = H.random_key()\n",
    "    print(\"Ma trận khóa ngẫu nhiên cấp %d:\" % int(m))\n",
    "    print(K)\n",
    "    \n",
    "    while len(H.encoding(p)) % int(m) != 0:\n",
    "        p += \"Z\"\n",
    "\n",
    "    P = H.encoding(p)\n",
    "    print(\"Bản rõ: %s\" % P)\n",
    "    C = H.enciphering(K,P)\n",
    "    print(\"Bản mã: %s\" % C)\n",
    "    print(\"Giải mã: %s\" % (H.deciphering(K,C)))"
   ]
  },
  {
   "cell_type": "markdown",
   "metadata": {},
   "source": [
    "#### 6. Mã hóa Vigenere"
   ]
  },
  {
   "cell_type": "markdown",
   "metadata": {},
   "source": [
    "Trong mã hóa Vigenere, với khóa $k = k_1k_2,...k_m\\;(k_i \\in \\mathbb{A})$, ta xác định ánh xạ mã hóa và giải mã như sau:  \n",
    "<center>$e_k(x_1,x_2,...,x_m) = (x_1 + k_1,x_2 + k_2,...,x_m + k_m)$</center>  \n",
    "<center>$d_k(y_1,y_2,...,y_m) = (y_1 - k_1,y_2 - k_2,...,y_m - k_m)$</center>  \n",
    "\n",
    "Các phép tính cộng trừ được thực hiện modulo 26. Bản rõ $P$ sẽ được chia làm nhiều khối độ dài $m$, cho từng khối qua hàm mã hóa nhận được các khối của bản mã $C$ tương ứng. Việc giải mã cũng tương tự thực hiện chia khối và giải mã từng khối."
   ]
  },
  {
   "cell_type": "markdown",
   "metadata": {},
   "source": [
    "**Ví dụ với Sagemath:**"
   ]
  },
  {
   "cell_type": "markdown",
   "metadata": {},
   "source": [
    "* Với $m$ = 3, $k$ = \"AFD\", $p$ = \"Toi yeu HUS!\""
   ]
  },
  {
   "cell_type": "code",
   "execution_count": 25,
   "metadata": {},
   "outputs": [
    {
     "data": {
      "text/plain": [
       "TOIYEUHUS"
      ]
     },
     "execution_count": 25,
     "metadata": {},
     "output_type": "execute_result"
    }
   ],
   "source": [
    "V = VigenereCryptosystem(AlphabeticStrings(),3)\n",
    "P = \"Toi yeu HUS!\"\n",
    "P = V.encoding(P);P"
   ]
  },
  {
   "cell_type": "code",
   "execution_count": 26,
   "metadata": {},
   "outputs": [
    {
     "data": {
      "text/plain": [
       "TTLYJXHZV"
      ]
     },
     "execution_count": 26,
     "metadata": {},
     "output_type": "execute_result"
    }
   ],
   "source": [
    "K = V.encoding(\"AFD\")\n",
    "C = V.enciphering(K,P);C"
   ]
  },
  {
   "cell_type": "code",
   "execution_count": 27,
   "metadata": {},
   "outputs": [
    {
     "data": {
      "text/plain": [
       "TOIYEUHUS"
      ]
     },
     "execution_count": 27,
     "metadata": {},
     "output_type": "execute_result"
    }
   ],
   "source": [
    "V.deciphering(K,C)"
   ]
  },
  {
   "cell_type": "code",
   "execution_count": 28,
   "metadata": {},
   "outputs": [
    {
     "data": {
      "text/plain": [
       "True"
      ]
     },
     "execution_count": 28,
     "metadata": {},
     "output_type": "execute_result"
    }
   ],
   "source": [
    "P == V.deciphering(K,C)"
   ]
  },
  {
   "cell_type": "markdown",
   "metadata": {},
   "source": [
    "* Với $k$, $p$ nhập từ bàn phím"
   ]
  },
  {
   "cell_type": "code",
   "execution_count": 29,
   "metadata": {},
   "outputs": [
    {
     "data": {
      "application/vnd.jupyter.widget-view+json": {
       "model_id": "fc86bbe562b14707beea729118f6eb40",
       "version_major": 2,
       "version_minor": 0
      },
      "text/plain": [
       "Interactive function <function _ at 0x6fcfc89ccb0> with 2 widgets\n",
       "  k: Text(value='hus', description='k')\n",
       "  p:…"
      ]
     },
     "metadata": {},
     "output_type": "display_data"
    }
   ],
   "source": [
    "@interact\n",
    "def _(k = \"hus\",p=\"Toi yeu HUS!\"):\n",
    "    V = VigenereCryptosystem(AlphabeticStrings(),len(k))\n",
    "    K = V.encoding(k)\n",
    "    \n",
    "    while len(V.encoding(p)) % len(k) != 0:\n",
    "        p += \"Z\"\n",
    "    \n",
    "    P = V.encoding(p)\n",
    "    print(\"Bản rõ: %s\" % P)\n",
    "    C = V.enciphering(K,P)\n",
    "    print(\"Bản mã: %s\" % C)\n",
    "    print(\"Giải mã: %s\" % (V.deciphering(K,C)))\n",
    "    "
   ]
  }
 ],
 "metadata": {
  "kernelspec": {
   "display_name": "SageMath 9.2",
   "language": "sage",
   "name": "sagemath"
  },
  "language_info": {
   "codemirror_mode": {
    "name": "ipython",
    "version": 3
   },
   "file_extension": ".py",
   "mimetype": "text/x-python",
   "name": "python",
   "nbconvert_exporter": "python",
   "pygments_lexer": "ipython3",
   "version": "3.7.7"
  }
 },
 "nbformat": 4,
 "nbformat_minor": 4
}
